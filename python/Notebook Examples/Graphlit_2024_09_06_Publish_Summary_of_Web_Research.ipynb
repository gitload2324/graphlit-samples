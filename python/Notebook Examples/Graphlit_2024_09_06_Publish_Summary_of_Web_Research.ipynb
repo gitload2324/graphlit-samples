{
  "nbformat": 4,
  "nbformat_minor": 0,
  "metadata": {
    "colab": {
      "provenance": [],
      "mount_file_id": "1cSnEIDnT7SYyUpfap5KiK6Y_LWLQdk6s",
      "authorship_tag": "ABX9TyMXQYD9hba8f1vO7Jnc+bt+",
      "include_colab_link": true
    },
    "kernelspec": {
      "name": "python3",
      "display_name": "Python 3"
    },
    "language_info": {
      "name": "python"
    }
  },
  "cells": [
    {
      "cell_type": "markdown",
      "metadata": {
        "id": "view-in-github",
        "colab_type": "text"
      },
      "source": [
        "<a href=\"https://colab.research.google.com/github/graphlit/graphlit-samples/blob/main/python/Notebook%20Examples/Graphlit_2024_09_06_Publish_Summary_of_Web_Research.ipynb\" target=\"_parent\"><img src=\"https://colab.research.google.com/assets/colab-badge.svg\" alt=\"Open In Colab\"/></a>"
      ]
    },
    {
      "cell_type": "markdown",
      "source": [
        "**Description**\n",
        "\n",
        "This example shows how to search the Web and ingest web pages, and then summarize the contents."
      ],
      "metadata": {
        "id": "pDz1gRPjOtn5"
      }
    },
    {
      "cell_type": "markdown",
      "source": [
        "**Requirements**\n",
        "\n",
        "Prior to running this notebook, you will need to [signup](https://docs.graphlit.dev/getting-started/signup) for Graphlit, and [create a project](https://docs.graphlit.dev/getting-started/create-project).\n",
        "\n",
        "You will need the Graphlit organization ID, preview environment ID and JWT secret from your created project.\n",
        "\n",
        "Assign these properties as Colab secrets: GRAPHLIT_ORGANIZATION_ID, GRAPHLIT_ENVIRONMENT_ID and GRAPHLIT_JWT_SECRET.\n",
        "\n",
        "\n",
        "---"
      ],
      "metadata": {
        "id": "laG2MXUIhNnx"
      }
    },
    {
      "cell_type": "markdown",
      "source": [
        "Install Graphlit Python client SDK"
      ],
      "metadata": {
        "id": "NwRzDHWWienC"
      }
    },
    {
      "cell_type": "code",
      "execution_count": null,
      "metadata": {
        "id": "fefizrrh4xGD"
      },
      "outputs": [],
      "source": [
        "!pip install --upgrade graphlit-client"
      ]
    },
    {
      "cell_type": "markdown",
      "source": [
        "Initialize Graphlit"
      ],
      "metadata": {
        "id": "abV1114jL-bR"
      }
    },
    {
      "cell_type": "code",
      "source": [
        "import os\n",
        "from google.colab import userdata\n",
        "from graphlit import Graphlit\n",
        "from graphlit_api import input_types, enums, exceptions\n",
        "\n",
        "os.environ['GRAPHLIT_ORGANIZATION_ID'] = userdata.get('GRAPHLIT_ORGANIZATION_ID')\n",
        "os.environ['GRAPHLIT_ENVIRONMENT_ID'] = userdata.get('GRAPHLIT_ENVIRONMENT_ID')\n",
        "os.environ['GRAPHLIT_JWT_SECRET'] = userdata.get('GRAPHLIT_JWT_SECRET')\n",
        "\n",
        "graphlit = Graphlit()"
      ],
      "metadata": {
        "id": "WoMAWD4LLP_q"
      },
      "execution_count": null,
      "outputs": []
    },
    {
      "cell_type": "markdown",
      "source": [
        "Define Graphlit helper functions"
      ],
      "metadata": {
        "id": "pgRX57EHMVfl"
      }
    },
    {
      "cell_type": "code",
      "source": [
        "from typing import List, Optional\n",
        "\n",
        "async def create_feed(search_text: str, read_limit: int):\n",
        "    if graphlit.client is None:\n",
        "        return;\n",
        "\n",
        "    input = input_types.FeedInput(\n",
        "        name=\"Web Search\",\n",
        "        type=enums.FeedTypes.SEARCH,\n",
        "        search=input_types.SearchFeedPropertiesInput(\n",
        "            text=search_text,\n",
        "            readLimit=read_limit\n",
        "        )\n",
        "    )\n",
        "\n",
        "    try:\n",
        "        response = await graphlit.client.create_feed(input)\n",
        "\n",
        "        return response.create_feed.id if response.create_feed is not None else None\n",
        "    except exceptions.GraphQLClientError as e:\n",
        "        print(str(e))\n",
        "        return None\n",
        "\n",
        "    return None\n",
        "\n",
        "async def is_feed_done(feed_id: str):\n",
        "    if graphlit.client is None:\n",
        "        return;\n",
        "\n",
        "    response = await graphlit.client.is_feed_done(feed_id)\n",
        "\n",
        "    return response.is_feed_done.result if response.is_feed_done is not None else None\n",
        "\n",
        "async def summarize_feed(feed_id: str, prompt: str):\n",
        "    if graphlit.client is None:\n",
        "        return;\n",
        "\n",
        "    try:\n",
        "        response = await graphlit.client.summarize_contents(\n",
        "            filter=input_types.ContentFilter(\n",
        "                # Filter just on feed\n",
        "                feeds=[input_types.EntityReferenceFilter(id=feed_id)],\n",
        "            ),\n",
        "            summarizations=[\n",
        "                input_types.SummarizationStrategyInput(\n",
        "                    type=enums.SummarizationTypes.CUSTOM,\n",
        "                    prompt=prompt\n",
        "                ),\n",
        "            ]\n",
        "        )\n",
        "\n",
        "        return response.summarize_contents\n",
        "    except exceptions.GraphQLClientError as e:\n",
        "        print(str(e))\n",
        "        return None\n",
        "\n",
        "async def publish_feeds(prompt: str, feeds: List[str]):\n",
        "    if graphlit.client is None:\n",
        "        return;\n",
        "\n",
        "    try:\n",
        "        response = await graphlit.client.publish_contents(\n",
        "            name=\"Web Summary\",\n",
        "            connector=input_types.ContentPublishingConnectorInput(\n",
        "               type=enums.ContentPublishingServiceTypes.TEXT,\n",
        "               format=enums.ContentPublishingFormats.MARKDOWN\n",
        "            ),\n",
        "            publish_prompt = prompt,\n",
        "            filter=input_types.ContentFilter(\n",
        "                # Filter just on feeds\n",
        "                feeds=[input_types.EntityReferenceFilter(id=feed_id) for feed_id in feeds],\n",
        "            ),\n",
        "            is_synchronous=True\n",
        "        )\n",
        "\n",
        "        return response.publish_contents.markdown if response.publish_contents is not None else None\n",
        "    except exceptions.GraphQLClientError as e:\n",
        "        print(str(e))\n",
        "        return None\n",
        "\n",
        "async def delete_all_feeds():\n",
        "    if graphlit.client is None:\n",
        "        return;\n",
        "\n",
        "    _ = await graphlit.client.delete_all_feeds(is_synchronous=True)\n"
      ],
      "metadata": {
        "id": "mtwjJsvVOVCh"
      },
      "execution_count": null,
      "outputs": []
    },
    {
      "cell_type": "markdown",
      "source": [
        "Execute Graphlit example"
      ],
      "metadata": {
        "id": "srzhQt4COLVI"
      }
    },
    {
      "cell_type": "code",
      "source": [
        "from IPython.display import display, Markdown\n",
        "import time\n",
        "\n",
        "# Remove any existing feeds; only needed for notebook example\n",
        "await delete_all_feeds()\n",
        "\n",
        "print('Deleted all feeds.')\n",
        "\n",
        "read_limit = 3 # how many search results to ingest from each feed\n",
        "\n",
        "searches = [\n",
        "    \"Where has Monkeypox been found?\",\n",
        "    \"How does Monkeypox affect the body?\",\n",
        "    \"What vaccines are being developed against Monkeypox?\",\n",
        "]\n",
        "\n",
        "feeds = []\n",
        "\n",
        "for search_text in searches:\n",
        "    feed_id = await create_feed(search_text, read_limit)\n",
        "\n",
        "    if feed_id is not None:\n",
        "        print(f'Created feed [{feed_id}].')\n",
        "\n",
        "        # Wait for feed to complete, since ingestion happens asychronously\n",
        "        done = False\n",
        "        time.sleep(5)\n",
        "        while not done:\n",
        "            done = await is_feed_done(feed_id)\n",
        "\n",
        "            if not done:\n",
        "                time.sleep(2)\n",
        "\n",
        "        print(f'Completed feed [{feed_id}].')\n",
        "\n",
        "        feeds.append(feed_id)\n",
        "\n",
        "prompt = \"\"\"\n",
        "Read the text first, all the way to the end.\n",
        "Condense the text into 5 verbose paragraphs.\n",
        "Be specific when referencing persons, organizations, or any other named entities.\n",
        "\"\"\"\n",
        "\n",
        "print()\n",
        "print('Summarizing feeds...')\n",
        "\n",
        "# First, we will summarize the results of each web search, independently\n",
        "for feed_id in feeds:\n",
        "    summarizations = await summarize_feed(feed_id, prompt)\n",
        "\n",
        "    if summarizations is not None:\n",
        "        print(f'Summarized feed [{feed_id}]:')\n",
        "\n",
        "        for summarization in summarizations:\n",
        "            if summarization is not None and summarization.items is not None:\n",
        "                for item in summarization.items:\n",
        "                    display(Markdown(item.text))\n",
        "\n",
        "publish_prompt = \"\"\"\n",
        "Follow these steps:\n",
        "Step 1: Think about a structure for an engaging AI-generated blog post, with an introduction, an in-depth discussion of 4-6 interesting topics across all provided content, and a wrap-up.\n",
        "Step 2: For each topic, write 2-3 detailed paragraphs discussing it in-depth. Touch on key points for each topic which would be interesting to readers. Mention the content metadata, entities and details from the provided summaries, as appropriate in the discussion.\n",
        "Step 3: Combine all topics into a lengthy blog post. Use friendly but technical conversation to write the post.\n",
        "Step 4: Remove any unnecessary formatting or final notes about being AI generated.\n",
        "\"\"\"\n",
        "\n",
        "print()\n",
        "print('Publishing feeds...')\n",
        "\n",
        "# Next, we will publish a blog post based on all the content, across all the web search feeds\n",
        "published_markdown = await publish_feeds(publish_prompt, feeds)\n",
        "\n",
        "if published_markdown is not None:\n",
        "    display(Markdown(published_markdown))"
      ],
      "metadata": {
        "id": "fOb6COcONZIJ",
        "colab": {
          "base_uri": "https://localhost:8080/",
          "height": 1000
        },
        "outputId": "d665c1f9-1401-4cd3-f2b3-6aae6edfa92c"
      },
      "execution_count": 5,
      "outputs": [
        {
          "output_type": "stream",
          "name": "stdout",
          "text": [
            "Deleted all feeds.\n",
            "Created feed [c9edc166-3725-4f47-846c-89e5a0655f0b].\n",
            "Completed feed [c9edc166-3725-4f47-846c-89e5a0655f0b].\n",
            "Created feed [907dfbff-f3f3-4b82-b61d-a8337e419db1].\n",
            "Completed feed [907dfbff-f3f3-4b82-b61d-a8337e419db1].\n",
            "Created feed [bb16f110-ace8-4af3-941e-f2b84ede0c99].\n",
            "Completed feed [bb16f110-ace8-4af3-941e-f2b84ede0c99].\n",
            "\n",
            "Summarizing feeds...\n",
            "Summarized feed [c9edc166-3725-4f47-846c-89e5a0655f0b]:\n"
          ]
        },
        {
          "output_type": "display_data",
          "data": {
            "text/plain": [
              "<IPython.core.display.Markdown object>"
            ],
            "text/markdown": "Mpox, previously known as monkeypox, is a viral illness caused by the monkeypox virus, a member of the Orthopoxvirus genus. The virus has two distinct clades: clade I (with subclades Ia and Ib) and clade II (with subclades IIa and IIb). A global outbreak of mpox caused by the clade IIb strain occurred in 2022-2023, and the disease remains a threat today. Recent upsurges in cases in the Democratic Republic of the Congo and other countries have been attributed to clades Ia and Ib. Mpox symptoms include a skin rash or mucosal lesions, fever, headache, muscle aches, back pain, low energy, and swollen lymph nodes. The disease can be transmitted through close contact with infected individuals, contaminated materials, or infected animals. Vaccination is available and should be considered alongside other public health interventions.\n\nMpox spreads primarily through close contact with an infected person, including skin-to-skin, mouth-to-mouth, or mouth-to-skin contact. People with multiple sexual partners are at higher risk. The virus can also be contracted from contaminated objects, needle injuries, or during pregnancy and birth. Animal-to-human transmission occurs through bites, scratches, or activities like hunting and cooking infected animals. Symptoms usually begin within a week of exposure and last 2-4 weeks. Common symptoms include rash, fever, sore throat, headache, muscle aches, back pain, low energy, and swollen lymph nodes. The rash often starts on the face and spreads to other body parts, including the palms, soles, and genitals.\n\nDiagnosing mpox can be challenging due to its similarity to other infections and conditions. The preferred diagnostic method is polymerase chain reaction (PCR) testing of samples taken from the rash. HIV testing should be offered to adults with mpox, and diagnostic tests for other conditions like syphilis and herpes should be considered. Treatment focuses on managing symptoms and preventing complications. Vaccination can help prevent infection and is recommended for high-risk groups, including health workers, people with multiple sex partners, and sex workers. Some antivirals have received emergency use authorization, but no proven effective antiviral treatment exists yet.\n\nPreventive measures include isolating at home, washing hands frequently, wearing masks, and covering lesions. People with mpox should avoid touching shared items and disinfect shared spaces. Sexual activity should be avoided during periods of increased transmission, and condoms should be used as a precaution for 12 weeks after recovery. Health workers should follow infection prevention protocols, including wearing personal protective equipment (PPE). The first human case of mpox was reported in the Democratic Republic of the Congo in 1970. Since then, the disease has spread sporadically in central and east Africa and more recently in other regions, including Europe and the Americas.\n\nStigma and discrimination related to mpox, particularly against men who have sex with men, trans people, and gender-diverse communities, can undermine public health efforts. The World Health Organization (WHO) works with member states and partners to prevent and respond to mpox outbreaks. This includes coordinating research on vaccines and treatments, strengthening health systems, and ensuring equitable access to medical tools. WHO Director-General Dr. Tedros Adhanom Ghebreyesus has declared mpox a public health emergency of international concern twice, first in May 2022 and again in August 2024."
          },
          "metadata": {}
        },
        {
          "output_type": "display_data",
          "data": {
            "text/plain": [
              "<IPython.core.display.Markdown object>"
            ],
            "text/markdown": "As of June 2, 2022, the Centers for Disease Control and Prevention (CDC) confirmed 19 cases of monkeypox across 10 U.S. states. The first case was reported in Massachusetts on May 18, and recent cases have emerged in Florida, Georgia, Pennsylvania, and New York. There are also suspected cases in California and Illinois awaiting confirmation. CDC Director Dr. Rochelle Walensky emphasized the need to presume community spread, noting that the U.S. has been preparing for such outbreaks for decades. The U.S. has two vaccines approved by the FDA for smallpox, with one, Jynneos, also approved for monkeypox. Some doses have already been distributed to close contacts of confirmed cases.\n\nThe majority of the cases have been among men who have sex with men, but Dr. Walensky stressed that the risk of exposure is not limited to any particular group. Dr. Raj Panjabi from the White House National Security Council echoed this sentiment, urging vigilance across all communities. The first U.S. case involved a man hospitalized in Massachusetts, whose contacts, including healthcare workers, were offered vaccines. Since then, cases have been confirmed in several states, with some linked to international travel. For instance, Virginia's case involved a woman who had traveled to Africa, and California's cases were linked to travel in Europe.\n\nThe CDC has confirmed that all U.S. patients have contracted the West African strain of monkeypox, which is generally mild with a low fatality rate. The U.S. case count is relatively small compared to European countries like Spain and England, which have reported over 150 and 200 cases, respectively. Globally, more than 770 cases have been confirmed outside Africa since the outbreak began in May. Monkeypox is endemic in 11 African countries, with most cases historically linked to animal exposure. However, current transmission appears to be through skin-to-skin contact among people.\n\nExperts are optimistic about containing the outbreak through contact tracing and targeted vaccinations. The Jynneos vaccine, approved in 2019, is the only one specifically for monkeypox, but older smallpox vaccines also offer significant protection. Jennifer McQuiston from the CDC's High Consequence Pathogens and Pathology division stated that efforts are focused on containing current cases to prevent further spread. The CDC is also considering whether broader vaccination recommendations might be necessary.\n\nIn summary, the U.S. is actively responding to the monkeypox outbreak with targeted vaccinations and contact tracing. While the majority of cases have been among men who have sex with men, the risk is not confined to any single group. The West African strain involved is generally mild, and experts believe the outbreak can be contained. The CDC continues to monitor the situation and may expand vaccination efforts if needed."
          },
          "metadata": {}
        },
        {
          "output_type": "display_data",
          "data": {
            "text/plain": [
              "<IPython.core.display.Markdown object>"
            ],
            "text/markdown": "NBC News is actively tracking the spread of mpox (formerly known as monkeypox) across the United States, updating the data weekly. The World Health Organization (WHO) declared mpox an international public health emergency in July, and the virus has been recorded in every U.S. state. Initially, cases were reported in 14 states and Washington, D.C., in early June, which expanded to 44 states and Washington, D.C., by the end of July. As of now, the U.S. has reported over 29,000 cases since May, contributing to a global total exceeding 80,000 cases.\n\nThe spread of mpox has seen a significant decline, with the seven-day average of new cases dropping from 457 on August 6 to fewer than 5 by January 5. This decrease marks a substantial improvement from the peak in August when more than 400 cases were reported daily. The virus primarily spreads through close physical contact, and recent cases have predominantly been among men who have sex with men.\n\nIn response to the outbreak, several states have taken emergency measures. California, Illinois, and New York state issued emergency declarations to combat the continued spread of mpox. These declarations followed the WHO's global emergency status and aimed to mobilize resources and raise public awareness about the virus.\n\nThe World Health Organization renamed monkeypox to mpox in November to address concerns about racism associated with the original name. This change reflects a broader effort to use non-stigmatizing language in public health communications. The Centers for Disease Control and Prevention (CDC) continues to monitor and report on the situation, providing data that NBC News uses for its weekly updates.\n\nJoe Murphy, a data editor, and Alex Ford, an interactive journalist at NBC News, are responsible for compiling and analyzing the data on mpox cases. Their work ensures that the public remains informed about the status of the outbreak. Dana Varinsky also contributed to the reporting, highlighting the collaborative effort to track and report on this public health issue."
          },
          "metadata": {}
        },
        {
          "output_type": "stream",
          "name": "stdout",
          "text": [
            "Summarized feed [907dfbff-f3f3-4b82-b61d-a8337e419db1]:\n"
          ]
        },
        {
          "output_type": "display_data",
          "data": {
            "text/plain": [
              "<IPython.core.display.Markdown object>"
            ],
            "text/markdown": "Monkeypox (MPX) is a rare disease caused by the monkeypox virus, which belongs to the same family of viruses as smallpox. Although the symptoms of MPX are similar to those of smallpox, they are generally milder, and the disease is rarely fatal. MPX is not related to chickenpox. Symptoms of MPX include fever, headache, muscle aches, backache, swollen lymph nodes, chills, exhaustion, and a rash that can appear on various parts of the body, including the face, mouth, hands, feet, chest, genitals, or anus. The rash progresses through different stages before healing completely, and the illness typically lasts 2-4 weeks. Some individuals may experience a rash first, followed by other symptoms, while others may only have a rash.\n\nMPX spreads through direct contact with the infectious rash, scabs, or body fluids, respiratory secretions during prolonged face-to-face contact or intimate physical contact, and by touching items that have come into contact with the infectious rash or body fluids. Pregnant individuals can transmit the virus to their fetus through the placenta. Additionally, MPX can be contracted from infected animals through scratches, bites, or by preparing or consuming meat from an infected animal. The virus can spread from the onset of symptoms until the rash has fully healed and a new layer of skin has formed. People without symptoms cannot spread the virus, and it is currently unknown if MPX can be transmitted through semen or vaginal fluids.\n\nPreventive measures against MPX include avoiding close, skin-to-skin contact with individuals who have a rash resembling MPX, not touching the rash or scabs of an infected person, and refraining from kissing, hugging, cuddling, or having sex with someone with MPX. It is also advised not to share eating utensils or cups with an infected person and to avoid handling their bedding, towels, or clothing. Frequent hand washing with soap and water or using an alcohol-based hand sanitizer is recommended. If experiencing severe symptoms or suspecting MPX, individuals should seek medical attention immediately and isolate from others while awaiting test results.\n\nThe MPX vaccine is available to specific groups, including men or trans people who have sex with men or trans people, sex workers, individuals who have had close contact with someone with suspected or confirmed MPX, and those who have been in venues or events where MPX exposure was identified. Clinicians and laboratory workers with high-risk occupational exposure are also eligible. The Jynneos vaccine is currently in limited supply, and doses have been distributed to providers within Sonoma County. Individuals who have received the first dose will be contacted for the second dose as supplies become available.\n\nTesting for MPX is available through the Sonoma County Public Health Lab, Quest, LapCorp, and other facilities. Healthcare providers are instructed to swab lesions and store specimens appropriately before sending them to the lab. For questions regarding testing, providers can contact the Sonoma County Public Health Laboratory or the Public Health Disease Control. Current confirmed and probable MPX case counts in Sonoma County are monitored and reported by the local health authorities."
          },
          "metadata": {}
        },
        {
          "output_type": "display_data",
          "data": {
            "text/plain": [
              "<IPython.core.display.Markdown object>"
            ],
            "text/markdown": "Mpox, formerly known as monkeypox, is a viral infection caused by the mpox virus, a less severe relative of the smallpox virus. Symptoms typically appear within three weeks of exposure and include flu-like symptoms and a rash resembling pimples or blisters. There is no specific treatment or cure for mpox, but smallpox vaccines have shown some protective effects. The FDA has approved two vaccines, Jynneos and ACAM2000, to help prevent mpox. These vaccines are most effective when administered before or shortly after exposure to the virus.\n\nThe Jynneos vaccine, also known as Imvamune or Imvanex, contains a live vaccinia virus and is administered in two doses, four weeks apart. Initially given subcutaneously, an emergency use authorization (EUA) in August 2022 allowed for intradermal administration for adults at high risk, which uses less vaccine per dose and increases the available supply. This EUA also permits subcutaneous administration for high-risk individuals under 18. Side effects of the intradermal method include manageable redness, firmness, itchiness, and swelling at the injection site. Jynneos is safe for individuals with HIV, eczema, or other conditions that weaken the immune system. The ACAM2000 vaccine, originally for smallpox, involves a live virus that can multiply and is administered via a two-pronged needle prick. It causes a lesion at the injection site, which heals in about six weeks and may leave a scar. The immune response takes about four weeks to develop.\n\nThe CDC recommends mpox vaccination for individuals exposed to the virus or at higher risk of exposure. This includes close contacts of infected persons, those with multiple sexual partners in outbreak areas, lab workers handling orthopoxvirus samples, and healthcare workers. Vaccination strategies include post-exposure prophylaxis (PEP), ideally within four days of exposure, and pre-exposure prophylaxis (PrEP) for high-risk individuals. Vaccination after symptom onset is generally ineffective. The U.S. Strategic National Stockpile (SNS) manages the distribution of mpox vaccines during outbreaks, and individuals at risk should consult their doctors for eligibility.\n\nBoth Jynneos and ACAM2000 vaccines can cause side effects at the injection site, such as pain, swelling, redness, and itching. Jynneos may also cause fever, headaches, and muscle pain, while ACAM2000 can lead to fever, rash, lymph node swelling, myocarditis, and pericarditis. Individuals experiencing severe side effects should contact their doctors immediately. Certain groups should avoid the mpox vaccine: infants under 12 months, individuals with congenital conditions, weakened immune systems, eczema, pregnancy, heart disease, or those using topical steroids for eye disease. Precautions are also advised for those with severe allergies to chicken or egg protein, Stevens-Johnson syndrome, or toxic epidermal necrolysis.\n\nAfter receiving the vaccine, it is recommended to wait for 30 minutes to monitor for any allergic reactions. In case of a severe reaction, medical attention should be sought immediately. The article also provides additional resources on adult vaccinations, including when to get vaccinated, top vaccine-preventable diseases, and general information on adult immunizations."
          },
          "metadata": {}
        },
        {
          "output_type": "stream",
          "name": "stdout",
          "text": [
            "Summarized feed [bb16f110-ace8-4af3-941e-f2b84ede0c99]:\n"
          ]
        },
        {
          "output_type": "display_data",
          "data": {
            "text/plain": [
              "<IPython.core.display.Markdown object>"
            ],
            "text/markdown": "The global outbreak of monkeypox has resulted in over 24,000 cases across more than 80 countries, prompting the World Health Organization (WHO) to warn that the opportunity to contain the disease is rapidly closing. Vaccines are seen as a crucial measure to combat the spread, but there are significant challenges in terms of availability and efficacy. Three vaccines, originally developed for smallpox, are being considered: MVA-BN (Jynneos in the US), ACAM2000, and LC16m8. Of these, only Jynneos is licensed for monkeypox by the US Food and Drug Administration (FDA). The scramble for these limited doses has raised concerns about equitable access, especially for poorer nations.\n\nJynneos is considered the safest of the three vaccines, as it contains a non-replicating form of the vaccinia virus, reducing the risk of illness. In contrast, ACAM2000 and LC16m8 contain replicating forms of the virus, which can potentially make people unwell, particularly those with weakened immune systems. The administration methods also differ: Jynneos is given via injection under the skin in two doses, while ACAM2000 is delivered through a needle that scratches the skin, creating a wound that can shed the virus. This makes Jynneos the preferred choice in most regions.\n\nThe cessation of routine smallpox vaccination in the 1970s may have contributed to the current monkeypox outbreak. Both smallpox and monkeypox are poxviruses, sharing about 85% genetic similarity. Historically, smallpox vaccines have provided protection against other poxviruses, including monkeypox. However, the effectiveness of these vaccines against monkeypox in humans remains uncertain. Jynneos has shown promising immune responses in animal models, but it has not been tested in controlled human trials due to the sporadic nature of past outbreaks.\n\nThe global supply of monkeypox vaccines is limited, with the WHO estimating around 16 million doses available, most of which are in bulk form requiring further processing. Bavarian Nordic, the manufacturer of Jynneos, has a significant portion of its stock owned by the US, which contracted the company to develop a safer smallpox vaccine in the early 2000s. Despite concerns about supply bottlenecks, Bavarian Nordic claims to have met all requests so far and has scaled up production to meet increasing demand.\n\nEquitable distribution of the available vaccines remains a critical issue. The WHO has urged countries with stockpiles to share doses with those lacking access. The US Strategic National Stockpile includes millions of doses of ACAM2000 and thousands of Jynneos doses. However, the vaccines were initially developed for stockpiling against potential bioterrorism threats, complicating the current distribution efforts. Ensuring that these vaccines reach the countries most in need, particularly those in Africa where monkeypox is endemic, is essential for controlling the outbreak."
          },
          "metadata": {}
        },
        {
          "output_type": "display_data",
          "data": {
            "text/plain": [
              "<IPython.core.display.Markdown object>"
            ],
            "text/markdown": "The JYNNEOS™ vaccine is designed to protect against smallpox, monkeypox, and other diseases caused by orthopoxviruses, including the vaccinia virus. Smallpox, caused by the variola virus, is a severe disease with a high mortality rate, historically killing about 30% of those infected. Although smallpox has been eradicated, certain individuals, such as emergency preparedness workers and laboratory personnel, remain at risk of exposure. Monkeypox, while rarer and generally less severe than smallpox, can still be fatal and has seen outbreaks in Africa and imported cases in other countries, including the United States. The vaccinia virus, used in some vaccines, can also cause disease, particularly in laboratory settings, but these infections typically resolve without treatment.\n\nThe JYNNEOS™ vaccine, which uses a weakened live vaccinia virus, is FDA-approved for adults 18 years and older who are at high risk for smallpox or monkeypox infection. The CDC recommends this vaccine for specific groups, including certain laboratory workers and emergency response team members. It is administered in a series of two injections, spaced four weeks apart, with booster doses recommended every 2 to 10 years for those at continued risk. Individuals who have previously received a smallpox vaccine may only need one dose. The vaccine is generally safe to administer alongside other vaccines, though certain individuals at risk for myocarditis may need to wait before receiving certain COVID-19 vaccines.\n\nBefore receiving the JYNNEOS™ vaccine, individuals should inform their healthcare provider of any severe allergies, immune system issues, or if they are pregnant or breastfeeding. In some cases, vaccination may be postponed for those with minor illnesses, but those exposed to the monkeypox virus should be vaccinated regardless of other health conditions. Common side effects include redness, soreness, swelling, and itching at the injection site, as well as fatigue, headache, and muscle pain. Severe allergic reactions are rare but possible, and any concerning symptoms should be reported to a healthcare provider or emergency services.\n\nIn the event of a serious reaction, individuals should seek immediate medical attention and report the incident to the Vaccine Adverse Event Reporting System (VAERS). The Countermeasures Injury Compensation Program may provide financial assistance for medical care and other expenses for those seriously injured by the vaccine. More information about this program can be found on its website or by calling the provided hotline.\n\nFor further information, individuals are encouraged to consult their healthcare provider, contact local or state health departments, or visit the CDC and FDA websites. The CDC also offers resources in multiple languages, including Spanish, to ensure accessibility for diverse populations. The JYNNEOS™ vaccine information statement was last reviewed on November 14, 2022, by the National Center for Immunization and Respiratory Diseases."
          },
          "metadata": {}
        },
        {
          "output_type": "stream",
          "name": "stdout",
          "text": [
            "\n",
            "Publishing feeds...\n"
          ]
        },
        {
          "output_type": "display_data",
          "data": {
            "text/plain": [
              "<IPython.core.display.Markdown object>"
            ],
            "text/markdown": "# Understanding Mpox: A Comprehensive Guide\n\n## Introduction\n\nMpox, formerly known as monkeypox, has emerged as a significant public health concern globally. This viral illness, caused by the monkeypox virus, has seen outbreaks in various parts of the world, prompting health organizations to take action. In this blog post, we will delve into the intricacies of mpox, exploring its transmission, symptoms, diagnosis, treatment, and prevention. We will also discuss the global response to the outbreak and the role of vaccines in controlling the spread of the virus.\n\n## The Nature of Mpox\n\nMpox is a viral illness caused by the monkeypox virus, a member of the Orthopoxvirus genus. There are two distinct clades of the virus: clade I and clade II, with the latter being responsible for the global outbreak that began in 2022. The virus spreads through close contact with an infected person, contaminated materials, or infected animals. This includes skin-to-skin, mouth-to-mouth, or mouth-to-skin contact, and can also be transmitted during pregnancy to the fetus or to the newborn during or after birth. People with multiple sexual partners are at higher risk, and animal-to-human transmission can occur through bites, scratches, or activities like hunting and cooking infected animals.\n\nThe symptoms of mpox include a skin rash, fever, headache, muscle aches, back pain, low energy, and swollen lymph nodes. The rash often begins on the face and spreads to other parts of the body, including the palms and soles. Symptoms typically last 2–4 weeks but may last longer in individuals with weakened immune systems. Complications can include bacterial skin infections, pneumonia, corneal infection, and sepsis. Diagnosis is challenging due to similarities with other infections and conditions, with the preferred test being polymerase chain reaction (PCR) to detect viral DNA from skin lesions.\n\n## Mpox in the United States\n\nThe Centers for Disease Control and Prevention (CDC) confirmed 19 cases of mpox across 10 U.S. states as of June 2, 2022. The first confirmed case was reported in Massachusetts on May 18, 2022. Recent cases have been confirmed in Florida, Georgia, Pennsylvania, and New York, with suspected cases in California and Illinois awaiting confirmation. Some U.S. patients had traveled to areas where mpox is spreading, but not all, indicating potential community spread. The CDC has resources to respond to the outbreak, including two vaccines approved by the FDA for smallpox, with one also approved for mpox (Jynneos).\n\nMost cases are among men who have sex with men, but the risk of exposure is not limited to any particular group. The first U.S. case involved a man hospitalized in Massachusetts on May 12, who remains in good condition. Massachusetts health officials are investigating over 200 of his contacts, mostly healthcare workers. The CDC confirmed additional cases in New York, California, Florida, Colorado, Utah, Georgia, Pennsylvania, Virginia, and Washington. The U.S. patients have the West African strain of mpox, which tends to cause mild disease with a 1% fatality rate.\n\n## Tracking the Outbreak\n\nNBC News is tracking U.S. cases of mpox, which the World Health Organization labeled an international “public health emergency.” The data is updated weekly. Mpox infections have significantly decreased, with fewer than 5 cases a day as of January 5, 2023, down from a peak of more than 400 cases a day in August 2022. Cases have been recorded in every state, increasing from 44 states and Washington, D.C., at the end of July, and from 14 states and Washington, D.C., at the beginning of June. The U.S. has reported more than 29,000 cases since May, while the total worldwide cases exceed 80,000.\n\nThe virus is primarily transmitted through close physical contact, with recent cases mostly among men who have sex with men. The World Health Organization declared the outbreak a public health emergency in July. California, Illinois, and New York state have issued emergency declarations over the continued spread of mpox in the last three weeks. The seven-day average of reported new cases decreased from 457 on August 6 to fewer than 5 on January 5, according to an NBC News analysis of CDC data.\n\n## Vaccination and Treatment\n\nThe JYNNEOS vaccine is designed to protect against smallpox, mpox, and other diseases caused by orthopoxviruses, including the vaccinia virus. Approved by the FDA for adults 18 years or older at high risk for smallpox or mpox infection, it is administered as a series of 2 injections, 4 weeks apart, with booster doses recommended every 2 or 10 years for those at continued risk. Common reactions include redness, soreness, swelling, itching, fatigue, headache, and muscle pain. Severe allergic reactions are rare but possible, and emergency medical attention should be sought if they occur.\n\nThe ACAM2000 vaccine contains a live virus that can multiply and is administered via a two-pronged needle prick on the upper arm. It can cause a lesion at the injection site, which takes about 6 weeks to heal. Side effects include fever, rash, lymph node swelling, myocarditis, and pericarditis. The vaccine is not recommended for individuals with weak immune systems. Post-exposure prophylaxis (PEP) is effective if given within 4 days of exposure and can still be beneficial if given within 4-14 days post-exposure, though less effective. Pre-exposure prophylaxis (PrEP) is recommended for high-risk individuals.\n\n## Global Response and Challenges\n\nThe global outbreak of mpox has resulted in over 24,000 cases across more than 80 countries. The World Health Organization (WHO) has indicated that the opportunity to contain the disease and prevent it from becoming endemic outside Africa is diminishing. Three vaccines are being considered to combat the outbreak, all originally developed for smallpox. The vaccines are MVA-BN (Jynneos in the US), ACAM2000, and LC16m8. The effectiveness of these vaccines against mpox is not fully known, and historical data suggests smallpox vaccines provided long-lasting protection against mpox.\n\nThere are concerns about equitable access to vaccines, especially for poorer nations. The WHO has called for nations with vaccine stockpiles to share doses with those that do not have them. The US Strategic National Stockpile includes millions of doses of ACAM2000 and thousands of doses of Jynneos. The end of widespread smallpox vaccination in the 1970s may have contributed to the current mpox outbreak. The global population under 50 years old is more susceptible to poxvirus infections due to the cessation of smallpox vaccinations.\n\n## Conclusion\n\nMpox remains a significant public health challenge, but with coordinated efforts, it is possible to control its spread. Vaccination, public awareness, and preventive measures are crucial in managing the outbreak. Health organizations worldwide continue to monitor the situation and provide resources to mitigate the impact of the virus. By staying informed and taking appropriate precautions, we can contribute to the global effort to combat mpox."
          },
          "metadata": {}
        }
      ]
    }
  ]
}